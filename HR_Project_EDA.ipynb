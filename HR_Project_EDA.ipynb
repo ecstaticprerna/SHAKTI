{
 "cells": [
  {
   "cell_type": "code",
   "execution_count": 1,
   "id": "2e8b1075-a5c2-4d97-b767-1d09384e2f27",
   "metadata": {},
   "outputs": [
    {
     "name": "stdout",
     "output_type": "stream",
     "text": [
      "=== DATASET OVERVIEW ===\n",
      "Shape: (699, 31)\n",
      "\n",
      "Data Types:\n",
      " Age                         float64\n",
      "Attrition                     int64\n",
      "BusinessTravel                int64\n",
      "DailyRate                   float64\n",
      "Department                    int64\n",
      "DistanceFromHome            float64\n",
      "Education                   float64\n",
      "EducationField                int64\n",
      "EnvironmentSatisfaction     float64\n",
      "Gender                        int64\n",
      "HourlyRate                  float64\n",
      "JobInvolvement              float64\n",
      "JobLevel                    float64\n",
      "JobRole                       int64\n",
      "JobSatisfaction             float64\n",
      "MaritalStatus                 int64\n",
      "MonthlyIncome               float64\n",
      "MonthlyRate                 float64\n",
      "NumCompaniesWorked          float64\n",
      "OverTime                      int64\n",
      "PercentSalaryHike           float64\n",
      "PerformanceRating           float64\n",
      "RelationshipSatisfaction    float64\n",
      "StockOptionLevel            float64\n",
      "TotalWorkingYears           float64\n",
      "TrainingTimesLastYear       float64\n",
      "WorkLifeBalance             float64\n",
      "YearsAtCompany              float64\n",
      "YearsInCurrentRole          float64\n",
      "YearsSinceLastPromotion     float64\n",
      "YearsWithCurrManager        float64\n",
      "dtype: object\n",
      "\n",
      "Missing Values:\n",
      " Age                         0\n",
      "Attrition                   0\n",
      "BusinessTravel              0\n",
      "DailyRate                   0\n",
      "Department                  0\n",
      "DistanceFromHome            0\n",
      "Education                   0\n",
      "EducationField              0\n",
      "EnvironmentSatisfaction     0\n",
      "Gender                      0\n",
      "HourlyRate                  0\n",
      "JobInvolvement              0\n",
      "JobLevel                    0\n",
      "JobRole                     0\n",
      "JobSatisfaction             0\n",
      "MaritalStatus               0\n",
      "MonthlyIncome               0\n",
      "MonthlyRate                 0\n",
      "NumCompaniesWorked          0\n",
      "OverTime                    0\n",
      "PercentSalaryHike           0\n",
      "PerformanceRating           0\n",
      "RelationshipSatisfaction    0\n",
      "StockOptionLevel            0\n",
      "TotalWorkingYears           0\n",
      "TrainingTimesLastYear       0\n",
      "WorkLifeBalance             0\n",
      "YearsAtCompany              0\n",
      "YearsInCurrentRole          0\n",
      "YearsSinceLastPromotion     0\n",
      "YearsWithCurrManager        0\n",
      "dtype: int64\n",
      "\n",
      "Number of Duplicate Rows: 0\n",
      "\n",
      "=== ATTRITION ANALYSIS ===\n"
     ]
    },
    {
     "name": "stderr",
     "output_type": "stream",
     "text": [
      "C:\\Users\\soulf\\AppData\\Local\\Temp\\ipykernel_14228\\2925562060.py:91: FutureWarning: \n",
      "\n",
      "Passing `palette` without assigning `hue` is deprecated and will be removed in v0.14.0. Assign the `x` variable to `hue` and set `legend=False` for the same effect.\n",
      "\n",
      "  sns.countplot(x=\"Attrition\", data=df, palette=\"coolwarm\")\n"
     ]
    },
    {
     "name": "stdout",
     "output_type": "stream",
     "text": [
      "\n",
      "Attrition Percentage:\n",
      " Attrition\n",
      "0    82.546495\n",
      "1    17.453505\n",
      "Name: proportion, dtype: float64\n",
      "\n",
      "=== UNIVARIATE ANALYSIS ===\n",
      "\n",
      "Age Statistics:\n",
      "     count          mean       std       min       25%       50%       75%       max  skewness  kurtosis\n",
      "Age  699.0  2.744586e-16  1.000716 -2.001782 -0.698505 -0.106106  0.604772  2.974367  0.598466  0.173061\n",
      "\n",
      "Attrition Statistics:\n",
      "           count      mean       std  min  25%  50%  75%  max  skewness  kurtosis\n",
      "Attrition  699.0  0.174535  0.379841  0.0  0.0  0.0  0.0  1.0  1.714919  0.940947\n",
      "\n",
      "BusinessTravel Statistics:\n",
      "                count      mean       std  min  25%  50%  75%  max  skewness  kurtosis\n",
      "BusinessTravel  699.0  1.615165  0.657205  0.0  1.0  2.0  2.0  2.0 -1.460169  0.789567\n",
      "\n",
      "DailyRate Statistics:\n",
      "           count          mean       std       min      25%       50%       75%      max  skewness  kurtosis\n",
      "DailyRate  699.0  1.219816e-16  1.000716 -1.767233 -0.84438  0.010763  0.882206  1.73108 -0.042812 -1.175852\n",
      "\n",
      "Department Statistics:\n",
      "            count      mean       std  min  25%  50%  75%  max  skewness  kurtosis\n",
      "Department  699.0  1.284692  0.541073  0.0  1.0  1.0  2.0  2.0  0.075517 -0.530355\n",
      "\n",
      "DistanceFromHome Statistics:\n",
      "                  count          mean       std       min       25%       50%      75%       max  skewness  kurtosis\n",
      "DistanceFromHome  699.0  7.877977e-17  1.000716 -1.025172 -0.902656 -0.290077  0.69005  2.405273  0.872248 -0.419677\n",
      "\n",
      "Education Statistics:\n",
      "           count          mean       std       min       25%      50%       75%       max  skewness  kurtosis\n",
      "Education  699.0  1.931375e-16  1.000716 -1.804308 -0.836379  0.13155  1.099478  2.067407 -0.286771 -0.674505\n",
      "\n",
      "EducationField Statistics:\n",
      "                count      mean       std  min  25%  50%  75%  max  skewness  kurtosis\n",
      "EducationField  699.0  2.258941  1.376289  0.0  1.0  2.0  3.0  5.0  0.590541 -0.731189\n",
      "\n",
      "EnvironmentSatisfaction Statistics:\n",
      "                         count          mean       std       min       25%       50%       75%       max  skewness  kurtosis\n",
      "EnvironmentSatisfaction  699.0  4.574309e-17  1.000716 -1.573301 -0.658378  0.256545  1.171468  1.171468 -0.302568 -1.217632\n",
      "\n",
      "Gender Statistics:\n",
      "        count      mean       std  min  25%  50%  75%  max  skewness  kurtosis\n",
      "Gender  699.0  0.629471  0.483292  0.0  0.0  1.0  1.0  1.0  -0.53617 -1.712522\n",
      "\n",
      "HourlyRate Statistics:\n",
      "            count          mean       std       min       25%       50%       75%       max  skewness  kurtosis\n",
      "HourlyRate  699.0  1.067339e-16  1.000716 -1.758086 -0.877643  0.002799  0.883241  1.665857 -0.044253 -1.217834\n",
      "\n",
      "JobInvolvement Statistics:\n",
      "                count          mean       std       min      25%       50%       75%       max  skewness  kurtosis\n",
      "JobInvolvement  699.0 -4.574309e-17  1.000716 -2.434396 -1.02808  0.378237  0.378237  1.784553 -0.514182  0.289828\n",
      "\n",
      "JobLevel Statistics:\n",
      "          count          mean       std       min       25%       50%       75%       max  skewness  kurtosis\n",
      "JobLevel  699.0  6.099079e-17  1.000716 -0.960599 -0.960599  0.418166  0.418166  3.175697   0.75767  0.041371\n",
      "\n",
      "JobRole Statistics:\n",
      "         count      mean       std  min  25%  50%  75%  max  skewness  kurtosis\n",
      "JobRole  699.0  4.672389  2.559318  0.0  2.0  6.0  7.0  8.0 -0.471653 -1.213098\n",
      "\n",
      "JobSatisfaction Statistics:\n",
      "                 count          mean       std       min       25%       50%       75%       max  skewness  kurtosis\n",
      "JobSatisfaction  699.0 -1.168990e-16  1.000716 -1.555327 -0.647837  0.259654  1.167145  1.167145 -0.315476 -1.227612\n",
      "\n",
      "MaritalStatus Statistics:\n",
      "               count      mean       std  min  25%  50%  75%  max  skewness  kurtosis\n",
      "MaritalStatus  699.0  1.173104  0.728124  0.0  1.0  1.0  2.0  2.0 -0.277806 -1.082614\n",
      "\n",
      "MonthlyIncome Statistics:\n",
      "               count          mean       std       min       25%       50%       75%       max  skewness  kurtosis\n",
      "MonthlyIncome  699.0 -8.640362e-17  1.000716 -1.395873 -0.781222 -0.216135  0.457304  4.164923  1.422748  2.307522\n",
      "\n",
      "MonthlyRate Statistics:\n",
      "             count          mean       std       min       25%       50%       75%       max  skewness  kurtosis\n",
      "MonthlyRate  699.0 -1.016513e-17  1.000716 -1.734751 -0.842191 -0.009886  0.861871  1.832044  0.038968 -1.150696\n",
      "\n",
      "NumCompaniesWorked Statistics:\n",
      "                    count          mean       std       min       25%       50%       75%       max  skewness  kurtosis\n",
      "NumCompaniesWorked  699.0  7.623849e-18  1.000716 -1.102261 -0.653001 -0.653001  0.694778  2.491816  0.974995 -0.109035\n",
      "\n",
      "OverTime Statistics:\n",
      "          count      mean       std  min  25%  50%  75%  max  skewness  kurtosis\n",
      "OverTime  699.0  0.290415  0.454279  0.0  0.0  0.0  1.0  1.0  0.923376 -1.147376\n",
      "\n",
      "PercentSalaryHike Statistics:\n",
      "                   count          mean       std       min      25%       50%       75%       max  skewness  kurtosis\n",
      "PercentSalaryHike  699.0  3.151191e-16  1.000716 -1.306742 -0.89769 -0.079587  0.738517  1.965672  0.504317 -0.839945\n",
      "\n",
      "PerformanceRating Statistics:\n",
      "                   count  mean  std  min  25%  50%  75%  max  skewness  kurtosis\n",
      "PerformanceRating  699.0   0.0  0.0  0.0  0.0  0.0  0.0  0.0       NaN       NaN\n",
      "\n",
      "RelationshipSatisfaction Statistics:\n",
      "                          count          mean       std       min      25%       50%       75%       max  skewness  kurtosis\n",
      "RelationshipSatisfaction  699.0 -1.321467e-16  1.000716 -1.583766 -0.65891  0.265946  1.190801  1.190801 -0.307166 -1.182309\n",
      "\n",
      "StockOptionLevel Statistics:\n",
      "                  count          mean       std       min       25%       50%       75%       max  skewness  kurtosis\n",
      "StockOptionLevel  699.0 -1.321467e-16  1.000716 -0.926294 -0.926294  0.522206  0.522206  1.970706  0.613355 -0.759051\n",
      "\n",
      "TotalWorkingYears Statistics:\n",
      "                   count          mean       std       min       25%       50%       75%       max  skewness  kurtosis\n",
      "TotalWorkingYears  699.0 -1.905962e-16  1.000716 -1.731008 -0.696488 -0.075776  0.338032  3.027784  0.627769  0.066251\n",
      "\n",
      "TrainingTimesLastYear Statistics:\n",
      "                       count          mean       std       min       25%       50%       75%       max  skewness  kurtosis\n",
      "TrainingTimesLastYear  699.0 -1.016513e-17  1.000716 -2.014226 -0.689726 -0.689726  0.634775  1.959275  0.148996 -0.362976\n",
      "\n",
      "WorkLifeBalance Statistics:\n",
      "                 count          mean       std       min     25%       50%       75%       max  skewness  kurtosis\n",
      "WorkLifeBalance  699.0  2.795411e-16  1.000716 -2.441382 -1.0483  0.344783  0.344783  1.737866 -0.545234  0.342959\n",
      "\n",
      "YearsAtCompany Statistics:\n",
      "                count          mean       std       min       25%       50%       75%       max  skewness  kurtosis\n",
      "YearsAtCompany  699.0 -1.016513e-17  1.000716 -1.435344 -0.859394  0.004532  0.580482  3.748209  0.804083   0.26627\n",
      "\n",
      "YearsInCurrentRole Statistics:\n",
      "                    count          mean       std       min       25%       50%       75%       max  skewness  kurtosis\n",
      "YearsInCurrentRole  699.0  2.795411e-17  1.000716 -1.125042 -0.436723 -0.436723  0.595755  3.693191  1.027487   0.55677\n",
      "\n",
      "YearsSinceLastPromotion Statistics:\n",
      "                         count          mean       std      min      25%       50%       75%       max  skewness  kurtosis\n",
      "YearsSinceLastPromotion  699.0 -2.668347e-17  1.000716 -0.76173 -0.76173  0.038946  0.038946  3.241646  1.607588  2.215479\n",
      "\n",
      "YearsWithCurrManager Statistics:\n",
      "                      count          mean       std       min       25%      50%       75%       max  skewness  kurtosis\n",
      "YearsWithCurrManager  699.0  8.767426e-17  1.000716 -1.111743 -0.758351 -0.40496  0.301824  2.775566  0.875196 -0.244901\n",
      "\n",
      "=== BIVARIATE ANALYSIS ===\n"
     ]
    },
    {
     "name": "stderr",
     "output_type": "stream",
     "text": [
      "C:\\Users\\soulf\\AppData\\Local\\Temp\\ipykernel_14228\\2925562060.py:61: FutureWarning: \n",
      "\n",
      "Passing `palette` without assigning `hue` is deprecated and will be removed in v0.14.0. Assign the `x` variable to `hue` and set `legend=False` for the same effect.\n",
      "\n",
      "  sns.boxplot(x=target, y=col, data=df, palette=\"coolwarm\")\n",
      "C:\\Users\\soulf\\Anaconda3\\envs\\hrattrition\\Lib\\site-packages\\scipy\\_lib\\deprecation.py:234: SmallSampleWarning: One or more sample arguments is too small; all returned values will be NaN. See documentation for sample size requirements.\n",
      "  return f(*args, **kwargs)\n",
      "C:\\Users\\soulf\\AppData\\Local\\Temp\\ipykernel_14228\\2925562060.py:61: FutureWarning: \n",
      "\n",
      "Passing `palette` without assigning `hue` is deprecated and will be removed in v0.14.0. Assign the `x` variable to `hue` and set `legend=False` for the same effect.\n",
      "\n",
      "  sns.boxplot(x=target, y=col, data=df, palette=\"coolwarm\")\n",
      "C:\\Users\\soulf\\Anaconda3\\envs\\hrattrition\\Lib\\site-packages\\scipy\\_lib\\deprecation.py:234: SmallSampleWarning: One or more sample arguments is too small; all returned values will be NaN. See documentation for sample size requirements.\n",
      "  return f(*args, **kwargs)\n",
      "C:\\Users\\soulf\\AppData\\Local\\Temp\\ipykernel_14228\\2925562060.py:61: FutureWarning: \n",
      "\n",
      "Passing `palette` without assigning `hue` is deprecated and will be removed in v0.14.0. Assign the `x` variable to `hue` and set `legend=False` for the same effect.\n",
      "\n",
      "  sns.boxplot(x=target, y=col, data=df, palette=\"coolwarm\")\n"
     ]
    },
    {
     "name": "stdout",
     "output_type": "stream",
     "text": [
      "\n",
      "Age vs Attrition - t-stat: nan, p-value: nan\n",
      "\n",
      "Attrition vs Attrition - t-stat: nan, p-value: nan\n"
     ]
    },
    {
     "name": "stderr",
     "output_type": "stream",
     "text": [
      "C:\\Users\\soulf\\Anaconda3\\envs\\hrattrition\\Lib\\site-packages\\scipy\\_lib\\deprecation.py:234: SmallSampleWarning: One or more sample arguments is too small; all returned values will be NaN. See documentation for sample size requirements.\n",
      "  return f(*args, **kwargs)\n",
      "C:\\Users\\soulf\\AppData\\Local\\Temp\\ipykernel_14228\\2925562060.py:61: FutureWarning: \n",
      "\n",
      "Passing `palette` without assigning `hue` is deprecated and will be removed in v0.14.0. Assign the `x` variable to `hue` and set `legend=False` for the same effect.\n",
      "\n",
      "  sns.boxplot(x=target, y=col, data=df, palette=\"coolwarm\")\n"
     ]
    },
    {
     "name": "stdout",
     "output_type": "stream",
     "text": [
      "\n",
      "BusinessTravel vs Attrition - t-stat: nan, p-value: nan\n"
     ]
    },
    {
     "name": "stderr",
     "output_type": "stream",
     "text": [
      "C:\\Users\\soulf\\Anaconda3\\envs\\hrattrition\\Lib\\site-packages\\scipy\\_lib\\deprecation.py:234: SmallSampleWarning: One or more sample arguments is too small; all returned values will be NaN. See documentation for sample size requirements.\n",
      "  return f(*args, **kwargs)\n",
      "C:\\Users\\soulf\\AppData\\Local\\Temp\\ipykernel_14228\\2925562060.py:61: FutureWarning: \n",
      "\n",
      "Passing `palette` without assigning `hue` is deprecated and will be removed in v0.14.0. Assign the `x` variable to `hue` and set `legend=False` for the same effect.\n",
      "\n",
      "  sns.boxplot(x=target, y=col, data=df, palette=\"coolwarm\")\n"
     ]
    },
    {
     "name": "stdout",
     "output_type": "stream",
     "text": [
      "\n",
      "DailyRate vs Attrition - t-stat: nan, p-value: nan\n"
     ]
    },
    {
     "name": "stderr",
     "output_type": "stream",
     "text": [
      "C:\\Users\\soulf\\Anaconda3\\envs\\hrattrition\\Lib\\site-packages\\scipy\\_lib\\deprecation.py:234: SmallSampleWarning: One or more sample arguments is too small; all returned values will be NaN. See documentation for sample size requirements.\n",
      "  return f(*args, **kwargs)\n",
      "C:\\Users\\soulf\\AppData\\Local\\Temp\\ipykernel_14228\\2925562060.py:61: FutureWarning: \n",
      "\n",
      "Passing `palette` without assigning `hue` is deprecated and will be removed in v0.14.0. Assign the `x` variable to `hue` and set `legend=False` for the same effect.\n",
      "\n",
      "  sns.boxplot(x=target, y=col, data=df, palette=\"coolwarm\")\n"
     ]
    },
    {
     "name": "stdout",
     "output_type": "stream",
     "text": [
      "\n",
      "Department vs Attrition - t-stat: nan, p-value: nan\n"
     ]
    },
    {
     "name": "stderr",
     "output_type": "stream",
     "text": [
      "C:\\Users\\soulf\\Anaconda3\\envs\\hrattrition\\Lib\\site-packages\\scipy\\_lib\\deprecation.py:234: SmallSampleWarning: One or more sample arguments is too small; all returned values will be NaN. See documentation for sample size requirements.\n",
      "  return f(*args, **kwargs)\n",
      "C:\\Users\\soulf\\AppData\\Local\\Temp\\ipykernel_14228\\2925562060.py:61: FutureWarning: \n",
      "\n",
      "Passing `palette` without assigning `hue` is deprecated and will be removed in v0.14.0. Assign the `x` variable to `hue` and set `legend=False` for the same effect.\n",
      "\n",
      "  sns.boxplot(x=target, y=col, data=df, palette=\"coolwarm\")\n"
     ]
    },
    {
     "name": "stdout",
     "output_type": "stream",
     "text": [
      "\n",
      "DistanceFromHome vs Attrition - t-stat: nan, p-value: nan\n"
     ]
    },
    {
     "name": "stderr",
     "output_type": "stream",
     "text": [
      "C:\\Users\\soulf\\Anaconda3\\envs\\hrattrition\\Lib\\site-packages\\scipy\\_lib\\deprecation.py:234: SmallSampleWarning: One or more sample arguments is too small; all returned values will be NaN. See documentation for sample size requirements.\n",
      "  return f(*args, **kwargs)\n",
      "C:\\Users\\soulf\\AppData\\Local\\Temp\\ipykernel_14228\\2925562060.py:61: FutureWarning: \n",
      "\n",
      "Passing `palette` without assigning `hue` is deprecated and will be removed in v0.14.0. Assign the `x` variable to `hue` and set `legend=False` for the same effect.\n",
      "\n",
      "  sns.boxplot(x=target, y=col, data=df, palette=\"coolwarm\")\n"
     ]
    },
    {
     "name": "stdout",
     "output_type": "stream",
     "text": [
      "\n",
      "Education vs Attrition - t-stat: nan, p-value: nan\n"
     ]
    },
    {
     "name": "stderr",
     "output_type": "stream",
     "text": [
      "C:\\Users\\soulf\\Anaconda3\\envs\\hrattrition\\Lib\\site-packages\\scipy\\_lib\\deprecation.py:234: SmallSampleWarning: One or more sample arguments is too small; all returned values will be NaN. See documentation for sample size requirements.\n",
      "  return f(*args, **kwargs)\n",
      "C:\\Users\\soulf\\AppData\\Local\\Temp\\ipykernel_14228\\2925562060.py:61: FutureWarning: \n",
      "\n",
      "Passing `palette` without assigning `hue` is deprecated and will be removed in v0.14.0. Assign the `x` variable to `hue` and set `legend=False` for the same effect.\n",
      "\n",
      "  sns.boxplot(x=target, y=col, data=df, palette=\"coolwarm\")\n"
     ]
    },
    {
     "name": "stdout",
     "output_type": "stream",
     "text": [
      "\n",
      "EducationField vs Attrition - t-stat: nan, p-value: nan\n"
     ]
    },
    {
     "name": "stderr",
     "output_type": "stream",
     "text": [
      "C:\\Users\\soulf\\Anaconda3\\envs\\hrattrition\\Lib\\site-packages\\scipy\\_lib\\deprecation.py:234: SmallSampleWarning: One or more sample arguments is too small; all returned values will be NaN. See documentation for sample size requirements.\n",
      "  return f(*args, **kwargs)\n",
      "C:\\Users\\soulf\\AppData\\Local\\Temp\\ipykernel_14228\\2925562060.py:61: FutureWarning: \n",
      "\n",
      "Passing `palette` without assigning `hue` is deprecated and will be removed in v0.14.0. Assign the `x` variable to `hue` and set `legend=False` for the same effect.\n",
      "\n",
      "  sns.boxplot(x=target, y=col, data=df, palette=\"coolwarm\")\n"
     ]
    },
    {
     "name": "stdout",
     "output_type": "stream",
     "text": [
      "\n",
      "EnvironmentSatisfaction vs Attrition - t-stat: nan, p-value: nan\n"
     ]
    },
    {
     "name": "stderr",
     "output_type": "stream",
     "text": [
      "C:\\Users\\soulf\\Anaconda3\\envs\\hrattrition\\Lib\\site-packages\\scipy\\_lib\\deprecation.py:234: SmallSampleWarning: One or more sample arguments is too small; all returned values will be NaN. See documentation for sample size requirements.\n",
      "  return f(*args, **kwargs)\n",
      "C:\\Users\\soulf\\AppData\\Local\\Temp\\ipykernel_14228\\2925562060.py:61: FutureWarning: \n",
      "\n",
      "Passing `palette` without assigning `hue` is deprecated and will be removed in v0.14.0. Assign the `x` variable to `hue` and set `legend=False` for the same effect.\n",
      "\n",
      "  sns.boxplot(x=target, y=col, data=df, palette=\"coolwarm\")\n"
     ]
    },
    {
     "name": "stdout",
     "output_type": "stream",
     "text": [
      "\n",
      "Gender vs Attrition - t-stat: nan, p-value: nan\n"
     ]
    },
    {
     "name": "stderr",
     "output_type": "stream",
     "text": [
      "C:\\Users\\soulf\\Anaconda3\\envs\\hrattrition\\Lib\\site-packages\\scipy\\_lib\\deprecation.py:234: SmallSampleWarning: One or more sample arguments is too small; all returned values will be NaN. See documentation for sample size requirements.\n",
      "  return f(*args, **kwargs)\n",
      "C:\\Users\\soulf\\AppData\\Local\\Temp\\ipykernel_14228\\2925562060.py:61: FutureWarning: \n",
      "\n",
      "Passing `palette` without assigning `hue` is deprecated and will be removed in v0.14.0. Assign the `x` variable to `hue` and set `legend=False` for the same effect.\n",
      "\n",
      "  sns.boxplot(x=target, y=col, data=df, palette=\"coolwarm\")\n",
      "C:\\Users\\soulf\\Anaconda3\\envs\\hrattrition\\Lib\\site-packages\\scipy\\_lib\\deprecation.py:234: SmallSampleWarning: One or more sample arguments is too small; all returned values will be NaN. See documentation for sample size requirements.\n",
      "  return f(*args, **kwargs)\n",
      "C:\\Users\\soulf\\AppData\\Local\\Temp\\ipykernel_14228\\2925562060.py:61: FutureWarning: \n",
      "\n",
      "Passing `palette` without assigning `hue` is deprecated and will be removed in v0.14.0. Assign the `x` variable to `hue` and set `legend=False` for the same effect.\n",
      "\n",
      "  sns.boxplot(x=target, y=col, data=df, palette=\"coolwarm\")\n"
     ]
    },
    {
     "name": "stdout",
     "output_type": "stream",
     "text": [
      "\n",
      "HourlyRate vs Attrition - t-stat: nan, p-value: nan\n",
      "\n",
      "JobInvolvement vs Attrition - t-stat: nan, p-value: nan\n"
     ]
    },
    {
     "name": "stderr",
     "output_type": "stream",
     "text": [
      "C:\\Users\\soulf\\Anaconda3\\envs\\hrattrition\\Lib\\site-packages\\scipy\\_lib\\deprecation.py:234: SmallSampleWarning: One or more sample arguments is too small; all returned values will be NaN. See documentation for sample size requirements.\n",
      "  return f(*args, **kwargs)\n",
      "C:\\Users\\soulf\\AppData\\Local\\Temp\\ipykernel_14228\\2925562060.py:61: FutureWarning: \n",
      "\n",
      "Passing `palette` without assigning `hue` is deprecated and will be removed in v0.14.0. Assign the `x` variable to `hue` and set `legend=False` for the same effect.\n",
      "\n",
      "  sns.boxplot(x=target, y=col, data=df, palette=\"coolwarm\")\n",
      "C:\\Users\\soulf\\Anaconda3\\envs\\hrattrition\\Lib\\site-packages\\scipy\\_lib\\deprecation.py:234: SmallSampleWarning: One or more sample arguments is too small; all returned values will be NaN. See documentation for sample size requirements.\n",
      "  return f(*args, **kwargs)\n"
     ]
    },
    {
     "name": "stdout",
     "output_type": "stream",
     "text": [
      "\n",
      "JobLevel vs Attrition - t-stat: nan, p-value: nan\n",
      "\n",
      "JobRole vs Attrition - t-stat: nan, p-value: nan\n"
     ]
    },
    {
     "name": "stderr",
     "output_type": "stream",
     "text": [
      "C:\\Users\\soulf\\AppData\\Local\\Temp\\ipykernel_14228\\2925562060.py:61: FutureWarning: \n",
      "\n",
      "Passing `palette` without assigning `hue` is deprecated and will be removed in v0.14.0. Assign the `x` variable to `hue` and set `legend=False` for the same effect.\n",
      "\n",
      "  sns.boxplot(x=target, y=col, data=df, palette=\"coolwarm\")\n",
      "C:\\Users\\soulf\\Anaconda3\\envs\\hrattrition\\Lib\\site-packages\\scipy\\_lib\\deprecation.py:234: SmallSampleWarning: One or more sample arguments is too small; all returned values will be NaN. See documentation for sample size requirements.\n",
      "  return f(*args, **kwargs)\n"
     ]
    },
    {
     "name": "stdout",
     "output_type": "stream",
     "text": [
      "\n",
      "JobSatisfaction vs Attrition - t-stat: nan, p-value: nan\n"
     ]
    },
    {
     "name": "stderr",
     "output_type": "stream",
     "text": [
      "C:\\Users\\soulf\\AppData\\Local\\Temp\\ipykernel_14228\\2925562060.py:61: FutureWarning: \n",
      "\n",
      "Passing `palette` without assigning `hue` is deprecated and will be removed in v0.14.0. Assign the `x` variable to `hue` and set `legend=False` for the same effect.\n",
      "\n",
      "  sns.boxplot(x=target, y=col, data=df, palette=\"coolwarm\")\n",
      "C:\\Users\\soulf\\Anaconda3\\envs\\hrattrition\\Lib\\site-packages\\scipy\\_lib\\deprecation.py:234: SmallSampleWarning: One or more sample arguments is too small; all returned values will be NaN. See documentation for sample size requirements.\n",
      "  return f(*args, **kwargs)\n",
      "C:\\Users\\soulf\\AppData\\Local\\Temp\\ipykernel_14228\\2925562060.py:61: FutureWarning: \n",
      "\n",
      "Passing `palette` without assigning `hue` is deprecated and will be removed in v0.14.0. Assign the `x` variable to `hue` and set `legend=False` for the same effect.\n",
      "\n",
      "  sns.boxplot(x=target, y=col, data=df, palette=\"coolwarm\")\n"
     ]
    },
    {
     "name": "stdout",
     "output_type": "stream",
     "text": [
      "\n",
      "MaritalStatus vs Attrition - t-stat: nan, p-value: nan\n"
     ]
    },
    {
     "name": "stderr",
     "output_type": "stream",
     "text": [
      "C:\\Users\\soulf\\Anaconda3\\envs\\hrattrition\\Lib\\site-packages\\scipy\\_lib\\deprecation.py:234: SmallSampleWarning: One or more sample arguments is too small; all returned values will be NaN. See documentation for sample size requirements.\n",
      "  return f(*args, **kwargs)\n",
      "C:\\Users\\soulf\\AppData\\Local\\Temp\\ipykernel_14228\\2925562060.py:61: FutureWarning: \n",
      "\n",
      "Passing `palette` without assigning `hue` is deprecated and will be removed in v0.14.0. Assign the `x` variable to `hue` and set `legend=False` for the same effect.\n",
      "\n",
      "  sns.boxplot(x=target, y=col, data=df, palette=\"coolwarm\")\n"
     ]
    },
    {
     "name": "stdout",
     "output_type": "stream",
     "text": [
      "\n",
      "MonthlyIncome vs Attrition - t-stat: nan, p-value: nan\n"
     ]
    },
    {
     "name": "stderr",
     "output_type": "stream",
     "text": [
      "C:\\Users\\soulf\\Anaconda3\\envs\\hrattrition\\Lib\\site-packages\\scipy\\_lib\\deprecation.py:234: SmallSampleWarning: One or more sample arguments is too small; all returned values will be NaN. See documentation for sample size requirements.\n",
      "  return f(*args, **kwargs)\n",
      "C:\\Users\\soulf\\AppData\\Local\\Temp\\ipykernel_14228\\2925562060.py:61: FutureWarning: \n",
      "\n",
      "Passing `palette` without assigning `hue` is deprecated and will be removed in v0.14.0. Assign the `x` variable to `hue` and set `legend=False` for the same effect.\n",
      "\n",
      "  sns.boxplot(x=target, y=col, data=df, palette=\"coolwarm\")\n"
     ]
    },
    {
     "name": "stdout",
     "output_type": "stream",
     "text": [
      "\n",
      "MonthlyRate vs Attrition - t-stat: nan, p-value: nan\n"
     ]
    },
    {
     "name": "stderr",
     "output_type": "stream",
     "text": [
      "C:\\Users\\soulf\\Anaconda3\\envs\\hrattrition\\Lib\\site-packages\\scipy\\_lib\\deprecation.py:234: SmallSampleWarning: One or more sample arguments is too small; all returned values will be NaN. See documentation for sample size requirements.\n",
      "  return f(*args, **kwargs)\n",
      "C:\\Users\\soulf\\AppData\\Local\\Temp\\ipykernel_14228\\2925562060.py:61: FutureWarning: \n",
      "\n",
      "Passing `palette` without assigning `hue` is deprecated and will be removed in v0.14.0. Assign the `x` variable to `hue` and set `legend=False` for the same effect.\n",
      "\n",
      "  sns.boxplot(x=target, y=col, data=df, palette=\"coolwarm\")\n"
     ]
    },
    {
     "name": "stdout",
     "output_type": "stream",
     "text": [
      "\n",
      "NumCompaniesWorked vs Attrition - t-stat: nan, p-value: nan\n"
     ]
    },
    {
     "name": "stderr",
     "output_type": "stream",
     "text": [
      "C:\\Users\\soulf\\Anaconda3\\envs\\hrattrition\\Lib\\site-packages\\scipy\\_lib\\deprecation.py:234: SmallSampleWarning: One or more sample arguments is too small; all returned values will be NaN. See documentation for sample size requirements.\n",
      "  return f(*args, **kwargs)\n",
      "C:\\Users\\soulf\\AppData\\Local\\Temp\\ipykernel_14228\\2925562060.py:61: FutureWarning: \n",
      "\n",
      "Passing `palette` without assigning `hue` is deprecated and will be removed in v0.14.0. Assign the `x` variable to `hue` and set `legend=False` for the same effect.\n",
      "\n",
      "  sns.boxplot(x=target, y=col, data=df, palette=\"coolwarm\")\n"
     ]
    },
    {
     "name": "stdout",
     "output_type": "stream",
     "text": [
      "\n",
      "OverTime vs Attrition - t-stat: nan, p-value: nan\n"
     ]
    },
    {
     "name": "stderr",
     "output_type": "stream",
     "text": [
      "C:\\Users\\soulf\\Anaconda3\\envs\\hrattrition\\Lib\\site-packages\\scipy\\_lib\\deprecation.py:234: SmallSampleWarning: One or more sample arguments is too small; all returned values will be NaN. See documentation for sample size requirements.\n",
      "  return f(*args, **kwargs)\n",
      "C:\\Users\\soulf\\AppData\\Local\\Temp\\ipykernel_14228\\2925562060.py:61: FutureWarning: \n",
      "\n",
      "Passing `palette` without assigning `hue` is deprecated and will be removed in v0.14.0. Assign the `x` variable to `hue` and set `legend=False` for the same effect.\n",
      "\n",
      "  sns.boxplot(x=target, y=col, data=df, palette=\"coolwarm\")\n",
      "C:\\Users\\soulf\\Anaconda3\\envs\\hrattrition\\Lib\\site-packages\\scipy\\_lib\\deprecation.py:234: SmallSampleWarning: One or more sample arguments is too small; all returned values will be NaN. See documentation for sample size requirements.\n",
      "  return f(*args, **kwargs)\n"
     ]
    },
    {
     "name": "stdout",
     "output_type": "stream",
     "text": [
      "\n",
      "PercentSalaryHike vs Attrition - t-stat: nan, p-value: nan\n",
      "\n",
      "PerformanceRating vs Attrition - t-stat: nan, p-value: nan\n"
     ]
    },
    {
     "name": "stderr",
     "output_type": "stream",
     "text": [
      "C:\\Users\\soulf\\AppData\\Local\\Temp\\ipykernel_14228\\2925562060.py:61: FutureWarning: \n",
      "\n",
      "Passing `palette` without assigning `hue` is deprecated and will be removed in v0.14.0. Assign the `x` variable to `hue` and set `legend=False` for the same effect.\n",
      "\n",
      "  sns.boxplot(x=target, y=col, data=df, palette=\"coolwarm\")\n",
      "C:\\Users\\soulf\\Anaconda3\\envs\\hrattrition\\Lib\\site-packages\\scipy\\_lib\\deprecation.py:234: SmallSampleWarning: One or more sample arguments is too small; all returned values will be NaN. See documentation for sample size requirements.\n",
      "  return f(*args, **kwargs)\n",
      "C:\\Users\\soulf\\AppData\\Local\\Temp\\ipykernel_14228\\2925562060.py:61: FutureWarning: \n",
      "\n",
      "Passing `palette` without assigning `hue` is deprecated and will be removed in v0.14.0. Assign the `x` variable to `hue` and set `legend=False` for the same effect.\n",
      "\n",
      "  sns.boxplot(x=target, y=col, data=df, palette=\"coolwarm\")\n",
      "C:\\Users\\soulf\\Anaconda3\\envs\\hrattrition\\Lib\\site-packages\\scipy\\_lib\\deprecation.py:234: SmallSampleWarning: One or more sample arguments is too small; all returned values will be NaN. See documentation for sample size requirements.\n",
      "  return f(*args, **kwargs)\n"
     ]
    },
    {
     "name": "stdout",
     "output_type": "stream",
     "text": [
      "\n",
      "RelationshipSatisfaction vs Attrition - t-stat: nan, p-value: nan\n",
      "\n",
      "StockOptionLevel vs Attrition - t-stat: nan, p-value: nan\n"
     ]
    },
    {
     "name": "stderr",
     "output_type": "stream",
     "text": [
      "C:\\Users\\soulf\\AppData\\Local\\Temp\\ipykernel_14228\\2925562060.py:61: FutureWarning: \n",
      "\n",
      "Passing `palette` without assigning `hue` is deprecated and will be removed in v0.14.0. Assign the `x` variable to `hue` and set `legend=False` for the same effect.\n",
      "\n",
      "  sns.boxplot(x=target, y=col, data=df, palette=\"coolwarm\")\n",
      "C:\\Users\\soulf\\Anaconda3\\envs\\hrattrition\\Lib\\site-packages\\scipy\\_lib\\deprecation.py:234: SmallSampleWarning: One or more sample arguments is too small; all returned values will be NaN. See documentation for sample size requirements.\n",
      "  return f(*args, **kwargs)\n",
      "C:\\Users\\soulf\\AppData\\Local\\Temp\\ipykernel_14228\\2925562060.py:61: FutureWarning: \n",
      "\n",
      "Passing `palette` without assigning `hue` is deprecated and will be removed in v0.14.0. Assign the `x` variable to `hue` and set `legend=False` for the same effect.\n",
      "\n",
      "  sns.boxplot(x=target, y=col, data=df, palette=\"coolwarm\")\n"
     ]
    },
    {
     "name": "stdout",
     "output_type": "stream",
     "text": [
      "\n",
      "TotalWorkingYears vs Attrition - t-stat: nan, p-value: nan\n"
     ]
    },
    {
     "name": "stderr",
     "output_type": "stream",
     "text": [
      "C:\\Users\\soulf\\Anaconda3\\envs\\hrattrition\\Lib\\site-packages\\scipy\\_lib\\deprecation.py:234: SmallSampleWarning: One or more sample arguments is too small; all returned values will be NaN. See documentation for sample size requirements.\n",
      "  return f(*args, **kwargs)\n",
      "C:\\Users\\soulf\\AppData\\Local\\Temp\\ipykernel_14228\\2925562060.py:61: FutureWarning: \n",
      "\n",
      "Passing `palette` without assigning `hue` is deprecated and will be removed in v0.14.0. Assign the `x` variable to `hue` and set `legend=False` for the same effect.\n",
      "\n",
      "  sns.boxplot(x=target, y=col, data=df, palette=\"coolwarm\")\n"
     ]
    },
    {
     "name": "stdout",
     "output_type": "stream",
     "text": [
      "\n",
      "TrainingTimesLastYear vs Attrition - t-stat: nan, p-value: nan\n"
     ]
    },
    {
     "name": "stderr",
     "output_type": "stream",
     "text": [
      "C:\\Users\\soulf\\Anaconda3\\envs\\hrattrition\\Lib\\site-packages\\scipy\\_lib\\deprecation.py:234: SmallSampleWarning: One or more sample arguments is too small; all returned values will be NaN. See documentation for sample size requirements.\n",
      "  return f(*args, **kwargs)\n",
      "C:\\Users\\soulf\\AppData\\Local\\Temp\\ipykernel_14228\\2925562060.py:61: FutureWarning: \n",
      "\n",
      "Passing `palette` without assigning `hue` is deprecated and will be removed in v0.14.0. Assign the `x` variable to `hue` and set `legend=False` for the same effect.\n",
      "\n",
      "  sns.boxplot(x=target, y=col, data=df, palette=\"coolwarm\")\n"
     ]
    },
    {
     "name": "stdout",
     "output_type": "stream",
     "text": [
      "\n",
      "WorkLifeBalance vs Attrition - t-stat: nan, p-value: nan\n"
     ]
    },
    {
     "name": "stderr",
     "output_type": "stream",
     "text": [
      "C:\\Users\\soulf\\Anaconda3\\envs\\hrattrition\\Lib\\site-packages\\scipy\\_lib\\deprecation.py:234: SmallSampleWarning: One or more sample arguments is too small; all returned values will be NaN. See documentation for sample size requirements.\n",
      "  return f(*args, **kwargs)\n",
      "C:\\Users\\soulf\\AppData\\Local\\Temp\\ipykernel_14228\\2925562060.py:61: FutureWarning: \n",
      "\n",
      "Passing `palette` without assigning `hue` is deprecated and will be removed in v0.14.0. Assign the `x` variable to `hue` and set `legend=False` for the same effect.\n",
      "\n",
      "  sns.boxplot(x=target, y=col, data=df, palette=\"coolwarm\")\n",
      "C:\\Users\\soulf\\Anaconda3\\envs\\hrattrition\\Lib\\site-packages\\scipy\\_lib\\deprecation.py:234: SmallSampleWarning: One or more sample arguments is too small; all returned values will be NaN. See documentation for sample size requirements.\n",
      "  return f(*args, **kwargs)\n",
      "C:\\Users\\soulf\\AppData\\Local\\Temp\\ipykernel_14228\\2925562060.py:61: FutureWarning: \n",
      "\n",
      "Passing `palette` without assigning `hue` is deprecated and will be removed in v0.14.0. Assign the `x` variable to `hue` and set `legend=False` for the same effect.\n",
      "\n",
      "  sns.boxplot(x=target, y=col, data=df, palette=\"coolwarm\")\n"
     ]
    },
    {
     "name": "stdout",
     "output_type": "stream",
     "text": [
      "\n",
      "YearsAtCompany vs Attrition - t-stat: nan, p-value: nan\n",
      "\n",
      "YearsInCurrentRole vs Attrition - t-stat: nan, p-value: nan\n"
     ]
    },
    {
     "name": "stderr",
     "output_type": "stream",
     "text": [
      "C:\\Users\\soulf\\Anaconda3\\envs\\hrattrition\\Lib\\site-packages\\scipy\\_lib\\deprecation.py:234: SmallSampleWarning: One or more sample arguments is too small; all returned values will be NaN. See documentation for sample size requirements.\n",
      "  return f(*args, **kwargs)\n",
      "C:\\Users\\soulf\\AppData\\Local\\Temp\\ipykernel_14228\\2925562060.py:61: FutureWarning: \n",
      "\n",
      "Passing `palette` without assigning `hue` is deprecated and will be removed in v0.14.0. Assign the `x` variable to `hue` and set `legend=False` for the same effect.\n",
      "\n",
      "  sns.boxplot(x=target, y=col, data=df, palette=\"coolwarm\")\n"
     ]
    },
    {
     "name": "stdout",
     "output_type": "stream",
     "text": [
      "\n",
      "YearsSinceLastPromotion vs Attrition - t-stat: nan, p-value: nan\n"
     ]
    },
    {
     "name": "stderr",
     "output_type": "stream",
     "text": [
      "C:\\Users\\soulf\\Anaconda3\\envs\\hrattrition\\Lib\\site-packages\\scipy\\_lib\\deprecation.py:234: SmallSampleWarning: One or more sample arguments is too small; all returned values will be NaN. See documentation for sample size requirements.\n",
      "  return f(*args, **kwargs)\n"
     ]
    },
    {
     "name": "stdout",
     "output_type": "stream",
     "text": [
      "\n",
      "YearsWithCurrManager vs Attrition - t-stat: nan, p-value: nan\n",
      "\n",
      "=== MULTIVARIATE ANALYSIS ===\n",
      "\n",
      "=== FEATURE ENGINEERING ===\n",
      "Created feature: WorkLife_Score = WorkLifeBalance * JobSatisfaction\n",
      "\n",
      "Enhanced dataset saved to: C:\\Users\\soulf\\Downloads\\archive\\eda_results\\HR_Employee_Enhanced_EDA.csv\n"
     ]
    },
    {
     "name": "stderr",
     "output_type": "stream",
     "text": [
      "C:\\Users\\soulf\\AppData\\Local\\Temp\\ipykernel_14228\\2925562060.py:61: FutureWarning: \n",
      "\n",
      "Passing `palette` without assigning `hue` is deprecated and will be removed in v0.14.0. Assign the `x` variable to `hue` and set `legend=False` for the same effect.\n",
      "\n",
      "  sns.boxplot(x=target, y=col, data=df, palette=\"coolwarm\")\n"
     ]
    }
   ],
   "source": [
    "\n",
    "\n",
    "#########################\n",
    "### EDA SCRIPT ###\n",
    "#########################\n",
    "\n",
    "import pandas as pd\n",
    "import numpy as np\n",
    "import matplotlib.pyplot as plt\n",
    "import seaborn as sns\n",
    "import os\n",
    "from scipy import stats\n",
    "from sklearn.preprocessing import LabelEncoder\n",
    "from statsmodels.graphics.mosaicplot import mosaic\n",
    "import sweetviz as sv\n",
    "\n",
    "# ======================\n",
    "# CONFIGURATION\n",
    "# ======================\n",
    "class EDACfg:\n",
    "    INPUT_PATH = r\"C:\\Users\\soulf\\Downloads\\archive\\HR_Employee_Cleaned.pkl\"\n",
    "    OUTPUT_DIR = r\"C:\\Users\\soulf\\Downloads\\archive\\EDA_Reports\"\n",
    "    TARGET = \"Attrition\"\n",
    "    \n",
    "    # Plot parameters\n",
    "    PALETTE = \"viridis\"\n",
    "    STYLE = \"whitegrid\"\n",
    "    FIG_SIZE = (14, 8)\n",
    "    \n",
    "    # Analysis parameters\n",
    "    CORR_THRESHOLD = 0.6\n",
    "    ALPHA = 0.05\n",
    "\n",
    "# ======================\n",
    "# HELPER FUNCTIONS\n",
    "# ======================\n",
    "def setup_environment():\n",
    "    \"\"\"Configure visualization settings\"\"\"\n",
    "    sns.set(style=EDACfg.STYLE, palette=EDACfg.PALETTE)\n",
    "    plt.rcParams[\"figure.figsize\"] = EDACfg.FIG_SIZE\n",
    "    os.makedirs(os.path.join(EDACfg.OUTPUT_DIR, \"plots\"), exist_ok=True)\n",
    "    os.makedirs(os.path.join(EDACfg.OUTPUT_DIR, \"stats_tests\"), exist_ok=True)\n",
    "\n",
    "def save_plot(name, tight_layout=True):\n",
    "    \"\"\"Save plot to file\"\"\"\n",
    "    path = os.path.join(EDACfg.OUTPUT_DIR, \"plots\", f\"{name}.png\")\n",
    "    if tight_layout:\n",
    "        plt.tight_layout()\n",
    "    plt.savefig(path, dpi=300, bbox_inches=\"tight\")\n",
    "    plt.close()\n",
    "\n",
    "def target_analysis(df):\n",
    "    \"\"\"Comprehensive analysis of target variable\"\"\"\n",
    "    print(\"\\n=== TARGET ANALYSIS ===\")\n",
    "    \n",
    "    # Distribution plot\n",
    "    plt.figure()\n",
    "    ax = sns.countplot(x=EDACfg.TARGET, data=df)\n",
    "    plt.title(\"Target Variable Distribution\")\n",
    "    add_percent_labels(ax)\n",
    "    save_plot(\"target_distribution\")\n",
    "    \n",
    "    # Class imbalance stats\n",
    "    target_counts = df[EDACfg.TARGET].value_counts(normalize=True)\n",
    "    print(f\"Class Distribution:\\n{target_counts.to_string()}\")\n",
    "\n",
    "def add_percent_labels(ax):\n",
    "    \"\"\"Add percentage labels to bar plots\"\"\"\n",
    "    total = sum([p.get_height() for p in ax.patches])\n",
    "    for p in ax.patches:\n",
    "        percentage = f\"{100*p.get_height()/total:.1f}%\"\n",
    "        ax.annotate(percentage, \n",
    "                    (p.get_x() + p.get_width()/2, p.get_height()),\n",
    "                    ha='center', va='center', xytext=(0, 5),\n",
    "                    textcoords='offset points')\n",
    "\n",
    "def numerical_analysis(df, col):\n",
    "    \"\"\"Full numerical feature analysis\"\"\"\n",
    "    print(f\"\\nAnalyzing {col}\")\n",
    "    \n",
    "    # Distribution plots\n",
    "    fig, ax = plt.subplots(1, 2, figsize=(14, 6))\n",
    "    sns.histplot(df[col], kde=True, ax=ax[0])\n",
    "    ax[0].set_title(f\"Distribution of {col}\")\n",
    "    sns.boxplot(x=df[col], ax=ax[1])\n",
    "    ax[1].set_title(f\"Boxplot of {col}\")\n",
    "    save_plot(f\"num_{col}_dist\")\n",
    "    \n",
    "    # Statistical summary\n",
    "    stats = df[col].describe().to_frame().T\n",
    "    stats[\"skew\"] = df[col].skew()\n",
    "    stats[\"kurtosis\"] = df[col].kurtosis()\n",
    "    print(stats)\n",
    "    \n",
    "    # QQ-Plot\n",
    "    plt.figure()\n",
    "    stats.probplot(df[col], plot=plt)\n",
    "    plt.title(f\"QQ-Plot for {col}\")\n",
    "    save_plot(f\"num_{col}_qq\")\n",
    "\n",
    "def categorical_analysis(df, col):\n",
    "    \"\"\"Full categorical feature analysis\"\"\"\n",
    "    print(f\"\\nAnalyzing {col}\")\n",
    "    \n",
    "    # Distribution plot\n",
    "    plt.figure()\n",
    "    ax = sns.countplot(x=col, data=df, order=df[col].value_counts().index)\n",
    "    plt.xticks(rotation=45)\n",
    "    add_percent_labels(ax)\n",
    "    plt.title(f\"Distribution of {col}\")\n",
    "    save_plot(f\"cat_{col}_dist\")\n",
    "    \n",
    "    # Target relationship\n",
    "    plt.figure()\n",
    "    ct = pd.crosstab(df[col], df[EDACfg.TARGET], normalize='index')\n",
    "    ct.plot(kind='bar', stacked=True)\n",
    "    plt.title(f\"{col} vs {EDACfg.TARGET}\")\n",
    "    plt.ylabel(\"Percentage\")\n",
    "    save_plot(f\"cat_{col}_vs_target\")\n",
    "\n",
    "def multivariate_analysis(df):\n",
    "    \"\"\"Advanced multivariate techniques\"\"\"\n",
    "    print(\"\\n=== MULTIVARIATE ANALYSIS ===\")\n",
    "    \n",
    "    # Correlation matrix\n",
    "    corr = df.corr(numeric_only=True)\n",
    "    mask = np.triu(np.ones_like(corr, dtype=bool))\n",
    "    plt.figure(figsize=(20, 16))\n",
    "    sns.heatmap(corr.round(2), mask=mask, cmap=\"coolwarm\", annot=True)\n",
    "    plt.title(\"Feature Correlation Matrix\")\n",
    "    save_plot(\"correlation_matrix\")\n",
    "    \n",
    "    # Pairplot for key features\n",
    "    key_features = corr[EDACfg.TARGET].abs().sort_values(ascending=False).index[:5]\n",
    "    sns.pairplot(df, vars=key_features, hue=EDACfg.TARGET)\n",
    "    save_plot(\"pairplot_key_features\")\n",
    "    \n",
    "    # Interaction analysis\n",
    "    interactions = [\n",
    "        ('MonthlyIncome', 'JobLevel'),\n",
    "        ('Age', 'YearsAtCompany')\n",
    "    ]\n",
    "    for var1, var2 in interactions:\n",
    "        plt.figure()\n",
    "        sns.lmplot(x=var1, y=var2, hue=EDACfg.TARGET, data=df, height=8)\n",
    "        plt.title(f\"{var1} vs {var2} by {EDACfg.TARGET}\")\n",
    "        save_plot(f\"interaction_{var1}_{var2}\")\n",
    "\n",
    "def statistical_testing(df):\n",
    "    \"\"\"Run statistical tests for feature significance\"\"\"\n",
    "    print(\"\\n=== STATISTICAL TESTING ===\")\n",
    "    \n",
    "    results = []\n",
    "    for col in df.columns:\n",
    "        if col == EDACfg.TARGET:\n",
    "            continue\n",
    "            \n",
    "        # Numerical features\n",
    "        if pd.api.types.is_numeric_dtype(df[col]):\n",
    "            group1 = df[df[EDACfg.TARGET] == 1][col]\n",
    "            group0 = df[df[EDACfg.TARGET] == 0][col]\n",
    "            stat, p = stats.mannwhitneyu(group1, group0)\n",
    "            test_type = \"Mann-Whitney U\"\n",
    "            \n",
    "        # Categorical features\n",
    "        else:\n",
    "            contingency = pd.crosstab(df[col], df[EDACfg.TARGET])\n",
    "            stat, p, dof, _ = stats.chi2_contingency(contingency)\n",
    "            test_type = \"Chi-Square\"\n",
    "            \n",
    "        results.append({\n",
    "            \"feature\": col,\n",
    "            \"test\": test_type,\n",
    "            \"statistic\": stat,\n",
    "            \"p_value\": p,\n",
    "            \"significant\": p < EDACfg.ALPHA\n",
    "        })\n",
    "    \n",
    "    # Save results\n",
    "    results_df = pd.DataFrame(results)\n",
    "    results_df.to_csv(os.path.join(EDACfg.OUTPUT_DIR, \"stats_tests\", \"significance_results.csv\"), index=False)\n",
    "    print(results_df)\n",
    "\n",
    "def generate_sweetviz_report(df):\n",
    "    \"\"\"Generate interactive EDA report\"\"\"\n",
    "    report = sv.analyze(df, target_feat=EDACfg.TARGET)\n",
    "    report.show_html(os.path.join(EDACfg.OUTPUT_DIR, \"sweetviz_report.html\"))\n",
    "\n",
    "if __name__ == \"__main__\":\n",
    "    setup_environment()\n",
    "    df = pd.read_pickle(EDACfg.INPUT_PATH)\n",
    "    \n",
    "    # Automated Analysis\n",
    "    target_analysis(df)\n",
    "    numerical_cols = df.select_dtypes(include=np.number).columns.tolist()\n",
    "    categorical_cols = df.select_dtypes(include=\"category\").columns.tolist()\n",
    "    \n",
    "    for col in numerical_cols:\n",
    "        numerical_analysis(df, col)\n",
    "        \n",
    "    for col in categorical_cols:\n",
    "        categorical_analysis(df, col)\n",
    "        \n",
    "    multivariate_analysis(df)\n",
    "    statistical_testing(df)\n",
    "    generate_sweetviz_report(df)\n",
    "    \n",
    "    print(f\"✅ EDA complete. Results saved to {EDACfg.OUTPUT_DIR}\")"
   ]
  }
 ],
 "metadata": {
  "kernelspec": {
   "display_name": "Python 3 (ipykernel)",
   "language": "python",
   "name": "python3"
  },
  "language_info": {
   "codemirror_mode": {
    "name": "ipython",
    "version": 3
   },
   "file_extension": ".py",
   "mimetype": "text/x-python",
   "name": "python",
   "nbconvert_exporter": "python",
   "pygments_lexer": "ipython3",
   "version": "3.12.9"
  }
 },
 "nbformat": 4,
 "nbformat_minor": 5
}
